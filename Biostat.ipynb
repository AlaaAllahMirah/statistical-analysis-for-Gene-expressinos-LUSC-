{
 "cells": [
  {
   "cell_type": "code",
   "execution_count": 2,
   "metadata": {},
   "outputs": [],
   "source": [
    "import pandas as pd\n",
    "import numpy as np\n",
    "\n",
    "#----------------------------------------------reading the files----------------------------------------------#\n",
    "healthy = pd.read_csv('data/lusc-rsem-fpkm-tcga_paired.txt', sep='\\t')\n",
    "cancer = pd.read_csv('data/lusc-rsem-fpkm-tcga-t_paired.txt', sep='\\t')\n",
    "pd.options.display.max_columns = None\n",
    "\n",
    "# copying the data\n",
    "h = healthy\n",
    "c = cancer"
   ]
  },
  {
   "cell_type": "code",
   "execution_count": 3,
   "metadata": {},
   "outputs": [],
   "source": [
    "#----------------------------------------------Files Filteration----------------------------------------------#\n",
    "\n",
    "# drop the 1st column that identify the genes\n",
    "h.drop([\"Entrez_Gene_Id\"], axis = 1, inplace = True)\n",
    "c.drop([\"Entrez_Gene_Id\"], axis = 1, inplace = True)\n",
    "\n",
    "Clength = len(c.columns) # return number of columns after dropping the 1st identification column\n",
    "droplength = ( 0.5 * (Clength-1) +1) # return the number of 50% of total columns ,+1 because we still have the numeclature column\n",
    "\n",
    "\n",
    "# replace the zeros (missing values) in file with nan this is required for next step\n",
    "h = h.replace(0,np.nan)\n",
    "c = c.replace(0,np.nan)\n",
    "\n",
    "\n",
    "# in order to remove the rows that have more than 50% missing data dropna function is applied\n",
    "# in which we put threshold that reflects the minimum number of not nan data required in each row\n",
    "h = h.dropna(thresh = droplength) \n",
    "c = c.dropna(thresh = droplength)\n",
    "\n",
    "\n",
    "#return back to zero values to proceed calculations\n",
    "h = h.replace(np.nan,0)\n",
    "c = c.replace(np.nan,0)\n",
    "\n",
    "#print(h)\n",
    "#print(c)\n",
    "\n",
    "# Extracting the column of hugo_symbol from both files\n",
    "G_h = h.iloc[0: , 0]\n",
    "G_c = c.iloc[0: , 0]\n",
    "\n",
    "# getting the intersected genes in both files according to hugo_symbol extracted from the previous step\n",
    "common = pd.merge(G_h, G_c, how= 'inner')\n",
    "\n",
    "# rewriting the 2 files with the common genes only so that each file has the no & name of genes  \n",
    "h = pd.merge(h, common, how= 'inner', on= ['Hugo_Symbol'])\n",
    "c = pd.merge(c, common, how= 'inner', on= ['Hugo_Symbol']) \n",
    "\n",
    "#print(len(h))\n",
    "#print(len(c))"
   ]
  },
  {
   "cell_type": "code",
   "execution_count": 4,
   "metadata": {},
   "outputs": [],
   "source": [
    "#----------------------------------------------pearson (linear) correlation calculation----------------------------------------------#\n",
    "from scipy.stats import pearsonr\n",
    "\n",
    "data_corr = []  #a list saves index and correlation\n",
    "corr_and_gene = []  #a list saves gene name and correlation\n",
    "mycorr = []      #a list saves correlation value only\n",
    "G_H = []        # a list saves the genes excluding the 1st column \"gene_id\" (healthy)\n",
    "G_C = []        # a list saves the genes excluding the 1st column \"gene_id\" (cancer)\n",
    "\n",
    "for x in range(0,len(h)): #len(h) = 17337\n",
    "    G_h = h.iloc[x, 1:]\n",
    "    G_c = c.iloc[x, 1:]\n",
    "    G_H.append(G_h)\n",
    "    G_C.append(G_c)\n",
    "    name_gene = h.iloc[x, 0]\n",
    "    r, _ = pearsonr(G_h, G_c)\n",
    "    data_corr.append((x,r))\n",
    "    corr_and_gene.append((name_gene,r))\n",
    "    mycorr.append(r)\n",
    "    \n",
    "#print(len(G_H))\n",
    "#print(len( G_C)) \n",
    "\n",
    "\n",
    "#get maximum corr and index   \n",
    "max_value = max(mycorr) #Return the max value of the list.\n",
    "max_index = mycorr. index(max_value) #Find the index of the max value.\n",
    "max_gene_name = h.iloc[max_index, 0]\n",
    "min_value = min(mycorr)\n",
    "min_index = mycorr. index(min_value) #Find the index of the max value.\n",
    "min_gene_name = h.iloc[min_index, 0]\n",
    "\n",
    "#sorting the correlation values\n",
    "mycorr.sort(reverse=True)"
   ]
  },
  {
   "cell_type": "code",
   "execution_count": 5,
   "metadata": {},
   "outputs": [
    {
     "name": "stdout",
     "output_type": "stream",
     "text": [
      "max CC:  0.9690441442970706\n",
      "index of max CC:  10829\n",
      "max correlation in gene AREGB\n",
      "min CC:  -0.4528072785247083\n",
      "index of min CC:  12974\n",
      "min correlation in gene FAM222B\n"
     ]
    }
   ],
   "source": [
    "print('max CC: ',max_value)\n",
    "print('index of max CC: ',max_index)\n",
    "print(\"max correlation in gene\",max_gene_name)\n",
    "print('min CC: ',min_value)\n",
    "print('index of min CC: ', min_index)\n",
    "print(\"min correlation in gene\",min_gene_name)\n"
   ]
  },
  {
   "cell_type": "code",
   "execution_count": 6,
   "metadata": {},
   "outputs": [],
   "source": [
    "#----------------------------------------------Plotting the results----------------------------------------------#\n",
    "\n",
    "H_gh = h.iloc[max_index, 1:].astype(np.float)\n",
    "H_gc = c.iloc[max_index, 1:].astype(np.float)\n",
    "L_gh = h.iloc[min_index, 1:].astype(np.float)\n",
    "L_gc = c.iloc[min_index, 1:].astype(np.float)\n",
    "\n",
    "#Plot\n",
    "import matplotlib.pyplot as plt"
   ]
  },
  {
   "cell_type": "code",
   "execution_count": 7,
   "metadata": {},
   "outputs": [
    {
     "data": {
      "image/png": "[encoded data removed]",
      "text/plain": [
       "<Figure size 432x288 with 1 Axes>"
      ]
     },
     "metadata": {
      "needs_background": "light"
     },
     "output_type": "display_data"
    }
   ],
   "source": [
    "#first plot\n",
    "plt.scatter(H_gh,H_gc, label='original data')\n",
    "#curve fitting\n",
    "m, b = np.polyfit(H_gh, H_gc, 1)\n",
    "plt.plot(H_gh, m*H_gh + b, c = 'r', label='fitted line')\n",
    "plt.title('The expression levels of genes which have max CC.')\n",
    "plt.xlabel(\"Healthy\")\n",
    "plt.ylabel('Cancerous')\n",
    "plt.legend()\n",
    "plt.show()"
   ]
  },
  {
   "cell_type": "code",
   "execution_count": 8,
   "metadata": {},
   "outputs": [
    {
     "data": {
      "image/png": "[encoded data removed]",
      "text/plain": [
       "<Figure size 432x288 with 1 Axes>"
      ]
     },
     "metadata": {
      "needs_background": "light"
     },
     "output_type": "display_data"
    }
   ],
   "source": [
    "#second plot\n",
    "plt.scatter(L_gh,L_gc, label='original data')\n",
    "#curve fitting\n",
    "m, b = np.polyfit(L_gh, L_gc, 1)\n",
    "plt.plot(L_gh, m*L_gh + b, c = 'r', label='fitted line')\n",
    "plt.title('The expression levels of genes which have min CC.')\n",
    "plt.xlabel(\"Healthy\")\n",
    "plt.ylabel('Cancerous')\n",
    "plt.legend()\n",
    "plt.show()"
   ]
  },
  {
   "cell_type": "code",
   "execution_count": 9,
   "metadata": {},
   "outputs": [],
   "source": [
    "#----------------------------------------------Hypothesis test----------------------------------------------# \n",
    "\n",
    "#Samples are Paired\n",
    "from scipy.stats import ttest_rel\n",
    "P_val_paired = []  #list saves P values for paired samples \n",
    "for x in range(0,len(h)):\n",
    "    Gh = G_H[x]\n",
    "    Gc = G_C[x]\n",
    "    p_val = ttest_rel(Gh, Gc).pvalue\n",
    "    P_val_paired.append(p_val)"
   ]
  },
  {
   "cell_type": "code",
   "execution_count": 35,
   "metadata": {},
   "outputs": [],
   "source": [
    "#Multiple tests correction (FDR Correction) for paired samples\n",
    "from statsmodels.stats.multitest import multipletests\n",
    "corrected_P_val_paired = multipletests(P_val_paired, alpha=0.05, method='fdr_bh')[1]"
   ]
  },
  {
   "cell_type": "code",
   "execution_count": 11,
   "metadata": {},
   "outputs": [],
   "source": [
    "#Samples are independent \n",
    "from scipy.stats import ttest_ind\n",
    "P_val_independent = []  #list saves P values for paired samples \n",
    "for x in range(0,len(h)):\n",
    "    Gh = G_H[x]\n",
    "    Gc = G_C[x]\n",
    "    p_val = ttest_ind(Gh,Gc).pvalue\n",
    "    P_val_independent.append(p_val)"
   ]
  },
  {
   "cell_type": "code",
   "execution_count": 12,
   "metadata": {},
   "outputs": [],
   "source": [
    "#Multiple tests correction (FDR Correction) for independent samples\n",
    "from statsmodels.stats.multitest import multipletests\n",
    "corrected_P_val_independent = multipletests(P_val_independent, alpha=0.05, method='fdr_bh')[1]"
   ]
  },
  {
   "cell_type": "code",
   "execution_count": 13,
   "metadata": {},
   "outputs": [],
   "source": [
    "# significance_genes paired\n",
    "gene_names = h.iloc[0: , 0]\n",
    "significance_genes_paired = pd.DataFrame({'Gene_name':gene_names, 'p-values':P_val_paired, 'p-values_fdr':corrected_P_val_paired})\n",
    "\n",
    "significance_genes_paired['significance:p_values'] = significance_genes_paired['p-values'].apply(lambda x: x < 0.05)\n",
    "significance_genes_paired['significance:p_values_fdr'] = significance_genes_paired['p-values_fdr'].apply(lambda x: x < 0.05)\n",
    "\n",
    "# Get significant genes before fdr correction\n",
    "diffrentially_genes_paired_b = significance_genes_paired[significance_genes_paired['significance:p_values']== True]\n",
    "\n",
    " # To get gene names before fdr\n",
    "diff_paired_b=diffrentially_genes_paired_b['Gene_name'].to_list()\n",
    "#print(len(diff_paired_b))\n",
    "\n",
    "#Get significant genes after fdr correction\n",
    "diffrentially_genes_paired = significance_genes_paired[significance_genes_paired['significance:p_values_fdr']== True]\n",
    "\n",
    "# To get gene names after fdr\n",
    "diff_paired=diffrentially_genes_paired['Gene_name'].to_list()"
   ]
  },
  {
   "cell_type": "code",
   "execution_count": 42,
   "metadata": {},
   "outputs": [
    {
     "name": "stdout",
     "output_type": "stream",
     "text": [
      "12410\n"
     ]
    }
   ],
   "source": [
    "print(len(diff_paired ))"
   ]
  },
  {
   "cell_type": "code",
   "execution_count": 15,
   "metadata": {},
   "outputs": [],
   "source": [
    "# significance_genes independent\n",
    "significance_genes_independent = pd.DataFrame({'Gene_name':gene_names, 'p-values':P_val_independent, 'p-values_fdr':corrected_P_val_independent})\n",
    "significance_genes_independent['significance:p_values'] = significance_genes_independent['p-values'].apply(lambda x: x < 0.05)\n",
    "significance_genes_independent['significance:p_values_fdr'] = significance_genes_independent['p-values_fdr'].apply(lambda x: x < 0.05)\n",
    "\n",
    "# Get significant genes before fdr correction\n",
    "diffrentially_genes_independent_b = significance_genes_independent[significance_genes_independent['significance:p_values']== True]\n",
    "\n",
    "# To get gene names before fdr\n",
    "diff_independent_b=diffrentially_genes_independent_b['Gene_name'].to_list()\n",
    "#print(len(diff_independent_b))\n",
    "\n",
    "#Get significant genes after fdr correction\n",
    "diffrentially_genes_independent = significance_genes_independent[significance_genes_independent['significance:p_values_fdr']== True]\n",
    "\n",
    "# To get gene names after fdr\n",
    "diff_independent=diffrentially_genes_independent['Gene_name'].to_list()"
   ]
  },
  {
   "cell_type": "code",
   "execution_count": 41,
   "metadata": {},
   "outputs": [
    {
     "name": "stdout",
     "output_type": "stream",
     "text": [
      "12320\n"
     ]
    }
   ],
   "source": [
    "print(len(diff_independent))"
   ]
  },
  {
   "cell_type": "code",
   "execution_count": 17,
   "metadata": {},
   "outputs": [],
   "source": [
    "#Get The distinct values in diff_paired (Not in diff_independent ) after FDR\n",
    "diff_paired_distinct = [] #a list saves distinct values in DEGs paired sets\n",
    "DEGs_common = []  #a list saves common values between  DEGs paired sets and independent paired sets\n",
    "for x in diff_paired:\n",
    "  if x not in diff_independent:\n",
    "    diff_paired_distinct.append(x)\n",
    "  elif x  in diff_independent:\n",
    "    DEGs_common.append(x)"
   ]
  },
  {
   "cell_type": "code",
   "execution_count": 28,
   "metadata": {},
   "outputs": [
    {
     "name": "stdout",
     "output_type": "stream",
     "text": [
      "12241\n"
     ]
    }
   ],
   "source": [
    "print(len(DEGs_common))"
   ]
  },
  {
   "cell_type": "code",
   "execution_count": 25,
   "metadata": {},
   "outputs": [
    {
     "name": "stdout",
     "output_type": "stream",
     "text": [
      "['RDH14', 'ZNF354A', 'PLAC8L1', 'MTPN', 'LAMTOR3', 'DOHH', 'ELP5', 'GAA', 'GPT', 'UBR3', 'MED22', 'WDR54', 'CCL7', 'AP3S2', 'SEC16B', 'VTI1A', 'CXXC1', 'HIVEP1', 'AC021860.1', 'EIF3C', 'THAP5', 'IFI44L', 'AC010441.1', 'FZD8', 'SLC38A6', 'C15orf38-AP3S2', 'C12orf71', 'MAP3K2', 'MORN2', 'EDEM3', 'MTRNR2L8', 'FAM27E2', 'SPDYE2', 'NBPF14', 'SLC25A19', 'OAS2', 'ASB7', 'NPIPB4', 'ANAPC2', 'AGBL2', 'NPIPB15', 'ZNF112', 'TMC6', 'TBK1', 'UTY', 'TRIM14', 'NADSYN1', 'GPR42', 'TYMP', 'DCTN2', 'RP13-996F3.5', 'CAPN10', 'AL591684.1', 'AC093157.1', 'FAF2', 'ZNF823', 'HSD11B1L', 'THYN1', 'CENPBD1', 'ZC3H10', 'HIVEP2', 'RMND1', 'SPAG17', 'B3GALT1', 'ARL3', 'ANKRD36', 'ZNF205', 'OPRL1', 'ACIN1', 'GNG12', 'TGFB1', 'UBXN6', 'SOCS5', 'ZNF321P', 'CTAGE8', 'ANO9', 'DHRS4-AS1', 'PLS3', 'NBPF3', 'WASH4P', 'PLGLB2', 'MFSD12', 'MIS18BP1', 'EHBP1L1', 'REST', 'NFKBIL1', 'BIVM', 'C9orf117', 'AGL', 'ALDH1L1', 'ELMOD2', 'SPATA20', 'KLHL36', 'NPIPB5', 'DMAP1', 'GSDMB', 'FCRLB', 'NPIPA5', 'AL354808.2', 'PDGFRL', 'FAM126B', 'TUT1', 'TMPRSS3', 'SUCLA2', 'LACTB2', 'CDK3', 'ZKSCAN4', 'CCDC24', 'AREGB', 'ST8SIA1', 'XRRA1', 'GOLGA8K', 'SURF4', 'SPSB3', 'REM2', 'ZNF747', 'TBC1D3H', 'TYW1', 'AGAP6', 'CATSPER3', 'IRF5', 'IKZF2', 'MNT', 'SPOPL', 'AP006621.5', 'SMIM20', 'CCL13', 'USP9Y', 'EMC10', 'KLHDC9', 'EVA1B', 'C20orf201', 'PLEKHA1', 'C11orf89', 'DBT', 'PEX6', 'LSM3', 'TBC1D3F', 'RABEP2', 'COQ5', 'PSEN1', 'STX10', 'SERINC5', 'SLC25A28', 'TIAM2', 'CDK10', 'SLC3A1', 'GPATCH11', 'CHSY1', 'WDR89', 'HEY1', 'COL6A1', 'RSG1', 'AL020996.1', 'KRT79', 'CWF19L2', 'NINL', 'LRRC19', 'ADAM28', 'EIF2S3L', 'SOX30', 'NPIPB3', 'PCED1A', 'UNC13A', 'ROGDI', 'KLHL25', 'GTF2I', 'RARB', 'CDR2L']\n"
     ]
    }
   ],
   "source": [
    "print(diff_paired_distinct)"
   ]
  },
  {
   "cell_type": "code",
   "execution_count": 26,
   "metadata": {},
   "outputs": [
    {
     "name": "stdout",
     "output_type": "stream",
     "text": [
      "169\n"
     ]
    }
   ],
   "source": [
    "print(len(diff_paired_distinct))"
   ]
  },
  {
   "cell_type": "code",
   "execution_count": 19,
   "metadata": {},
   "outputs": [],
   "source": [
    "#Get The distinct values in diff_independent (Not in diff_paired) after FDR\n",
    "diff_independent_distinct = [] #a list saves distinct values in DEGs independent sets\n",
    "for x in diff_independent:\n",
    "  if x not in diff_paired:\n",
    "    diff_independent_distinct.append(x)"
   ]
  },
  {
   "cell_type": "code",
   "execution_count": 30,
   "metadata": {},
   "outputs": [
    {
     "name": "stdout",
     "output_type": "stream",
     "text": [
      "['SHKBP1', 'TDRKH', 'NMBR', 'GALE', 'IQCJ-SCHIP1', 'POPDC2', 'SLC35E2', 'ALDH1A1', 'SSR4', 'SEC11C', 'ZC3H7B', 'SPECC1', 'TMEM108', 'HUS1B', 'ERBB2', 'ZNF805', 'LRRC31', 'ADAMTS6', 'AKR1CL1', 'ZNF813', 'PGPEP1L', 'ITPRIPL2', 'ITSN1', 'SLC26A4', 'SAMD12', 'LAMC1', 'RBM15', 'EMC7', 'FKBP1A', 'KLHL4', 'C17orf66', 'LCN1', 'INTS9', 'KLK11', 'MYT1', 'EXOSC8', 'TSPO', 'HOXB3', 'NR2C2', 'C22orf31', 'NKAIN4', 'AUTS2', 'AF165138.7', 'SLC9A1', 'DIS3L2', 'RIMS1', 'TOX3', 'GJA9', 'AKAP6', 'WIPF2', 'TGM3', 'RSF1', 'FXYD5', 'CNIH4', 'SHISA9', 'RPL28', 'VPRBP', 'IFNL1', 'FAM222A', 'PAMR1', 'LCT', 'SNRNP27', 'FAM168B', 'SOX13', 'NANOS3', 'NCEH1', 'CNGA3', 'NDUFB8', 'UQCR10', 'EVPL', 'SLC29A1', 'TMEM208', 'SLC22A14', 'NEFM', 'CCDC102A', 'GM2A', 'CP', 'ITPR3', 'RPS6KA6']\n"
     ]
    }
   ],
   "source": [
    "print(diff_independent_distinct)"
   ]
  },
  {
   "cell_type": "code",
   "execution_count": 29,
   "metadata": {},
   "outputs": [
    {
     "name": "stdout",
     "output_type": "stream",
     "text": [
      "79\n"
     ]
    }
   ],
   "source": [
    "print(len(diff_independent_distinct))"
   ]
  },
  {
   "cell_type": "code",
   "execution_count": 20,
   "metadata": {},
   "outputs": [],
   "source": [
    "#Making sure that no common elements between diff_paired_distinct and diff_independent\n",
    "compare = [] #a list saves an element count in diff_independent (if exists)\n",
    "for i in diff_paired_distinct:\n",
    "   compare.append(diff_independent.count(i))\n",
    "#print(compare) # All its values should equal zero"
   ]
  },
  {
   "cell_type": "code",
   "execution_count": 21,
   "metadata": {},
   "outputs": [],
   "source": [
    "#Making sure that no common elements between  diff_independent_distinct and diff_paired\n",
    "Compare = [] #a list saves an element count in diff_paired (if exists)\n",
    "for i in diff_independent_distinct:\n",
    "   Compare.append(diff_paired.count(i))\n",
    "#print(Compare) # All its values should equal zero "
   ]
  },
  {
   "cell_type": "code",
   "execution_count": 45,
   "metadata": {},
   "outputs": [
    {
     "name": "stdout",
     "output_type": "stream",
     "text": [
      "The Comparison has been done successfully\n"
     ]
    }
   ],
   "source": [
    "if len(DEGs_common)+len(diff_paired_distinct)==len(diff_paired) and len(DEGs_common)+len(diff_independent_distinct)==len(diff_independent):\n",
    "    print('The Comparison has been done successfully' )"
   ]
  },
  {
   "cell_type": "code",
   "execution_count": null,
   "metadata": {},
   "outputs": [],
   "source": []
  }
 ],
 "metadata": {
  "kernelspec": {
   "display_name": "Python 3",
   "language": "python",
   "name": "python3"
  },
  "language_info": {
   "codemirror_mode": {
    "name": "ipython",
    "version": 3
   },
   "file_extension": ".py",
   "mimetype": "text/x-python",
   "name": "python",
   "nbconvert_exporter": "python",
   "pygments_lexer": "ipython3",
   "version": "3.8.3"
  }
 },
 "nbformat": 4,
 "nbformat_minor": 4
}
